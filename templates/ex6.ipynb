{
  "nbformat": 4,
  "nbformat_minor": 0,
  "metadata": {
    "colab": {
      "name": "ex6.ipynb",
      "provenance": []
    },
    "kernelspec": {
      "name": "python3",
      "display_name": "Python 3"
    },
    "language_info": {
      "name": "python"
    }
  },
  "cells": [
    {
      "cell_type": "code",
      "metadata": {
        "id": "fMGP7sA8B7ak"
      },
      "source": [
        "import numpy as np\n",
        "import matplotlib.pyplot as plt\n",
        "from sklearn.gaussian_process import GaussianProcessRegressor\n",
        "from sklearn.gaussian_process.kernels import RBF, ConstantKernel as C"
      ],
      "execution_count": null,
      "outputs": []
    },
    {
      "cell_type": "markdown",
      "metadata": {
        "id": "kfV-0nQUB-rE"
      },
      "source": [
        "# $\\star$ Question 1:\n",
        "Load the points from regression.npz. \n",
        "\n",
        "Estimate the mean prediction and the variance using a Gaussian process and plot both in the style of last week’s assignment. \n",
        "\n",
        "Use an RBF kernel (a Gaussian function). Play\n",
        "with the hyperparameters (which hyperparameters do you have?) and see\n",
        "the effect in the predictive distribution. \n",
        "\n",
        "Reduce the number of samples and\n",
        "repeat the experiments."
      ]
    },
    {
      "cell_type": "code",
      "metadata": {
        "id": "6Thb2wsjCUgQ"
      },
      "source": [
        ""
      ],
      "execution_count": null,
      "outputs": []
    },
    {
      "cell_type": "markdown",
      "metadata": {
        "id": "MXhy-sKuCVBv"
      },
      "source": [
        "# $\\star \\star \\star$ Question 3:\n",
        "\n",
        "Can you optimize the hyperparameters? \n",
        "\n",
        "You must calculate the gradient of the log-likelihood with respect to each hyperparameter (this requires some knowledge on matrix calculus). \n",
        "\n",
        "Once you have the gradient you can run a gradient ascent on the hyperparameters. \n",
        "\n",
        "Make sure that the step size in the gradient ascent is not too big, otherwise it will not\n",
        "converge."
      ]
    },
    {
      "cell_type": "code",
      "metadata": {
        "id": "lO8aVcQXDWlI"
      },
      "source": [
        ""
      ],
      "execution_count": null,
      "outputs": []
    }
  ]
}