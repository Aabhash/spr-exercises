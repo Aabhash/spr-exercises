{
  "nbformat": 4,
  "nbformat_minor": 0,
  "metadata": {
    "colab": {
      "name": "Untitled6.ipynb",
      "provenance": []
    },
    "kernelspec": {
      "name": "python3",
      "display_name": "Python 3"
    },
    "language_info": {
      "name": "python"
    }
  },
  "cells": [
    {
      "cell_type": "code",
      "metadata": {
        "id": "WduJB1nIcLu6"
      },
      "source": [
        "import numpy as np\n",
        "import matplotlib.pyplot as plt"
      ],
      "execution_count": null,
      "outputs": []
    },
    {
      "cell_type": "markdown",
      "metadata": {
        "id": "Scg1A6QvjCrr"
      },
      "source": [
        "# $\\star$ Question 1:\n",
        "Load the points from regression.npz. \n",
        "\n",
        "Estimate the weight parameters using m<sup>th</sup> order polynomials as basis functions using the MLestimator. \n",
        "\n",
        "Numpy has various tools to invert matrices or to compute SVDs.\n",
        "\n",
        "Plot the points together with the mean prediction. See how the outcome\n",
        "changes as you change m."
      ]
    },
    {
      "cell_type": "code",
      "metadata": {
        "id": "XoaUsc7xkTL_"
      },
      "source": [
        ""
      ],
      "execution_count": null,
      "outputs": []
    },
    {
      "cell_type": "markdown",
      "metadata": {
        "id": "kxXQgLZZkTnm"
      },
      "source": [
        "# $\\star$ Question 2:\n",
        "\n",
        "Estimate the weights using the MAP estimator with the Gaussian prior\n",
        "from this class (ridge regression).\n",
        "\n",
        "Plot the points together with the mean prediction and the variance in the style of slide 14. \n",
        "\n",
        "See what happens as you use fewer and fewer points to estimate the weights.\n",
        "\n",
        "Also see what happens as you change the hyperparameter and the order of the\n",
        "polynomial m. When must be large, when can it be chosen smaller?"
      ]
    },
    {
      "cell_type": "code",
      "metadata": {
        "id": "VmVbUnftkx3P"
      },
      "source": [
        ""
      ],
      "execution_count": null,
      "outputs": []
    },
    {
      "cell_type": "markdown",
      "metadata": {
        "id": "TY3oSNXUkyIF"
      },
      "source": [
        "# $\\star \\star \\star$ Question 3:\n",
        "Find the optimum hyperparameters using the evidence approximation. \n",
        "It is not that hard. You know EM and you know how to\n",
        "estimate the weight parameters. Just combine these two. "
      ]
    },
    {
      "cell_type": "code",
      "metadata": {
        "id": "S3YdjFiFlnwR"
      },
      "source": [
        ""
      ],
      "execution_count": null,
      "outputs": []
    }
  ]
}